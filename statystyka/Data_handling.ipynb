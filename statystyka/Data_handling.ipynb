{
  "cells": [
    {
      "cell_type": "markdown",
      "metadata": {},
      "source": [
        "Zaimportuj biblioteki"
      ]
    },
    {
      "cell_type": "code",
      "execution_count": null,
      "metadata": {
        "trusted": true
      },
      "outputs": [
        {
          "name": "stdout",
          "output_type": "stream",
          "text": [
            "appnope==0.1.4\n",
            "asttokens==3.0.0\n",
            "comm==0.2.2\n",
            "debugpy==1.8.14\n",
            "decorator==5.2.1\n",
            "executing==2.2.0\n",
            "ipykernel==6.29.5\n",
            "ipython==9.1.0\n",
            "ipython_pygments_lexers==1.1.1\n",
            "jedi==0.19.2\n",
            "jupyter_client==8.6.3\n",
            "jupyter_core==5.7.2\n",
            "matplotlib-inline==0.1.7\n",
            "nest-asyncio==1.6.0\n",
            "packaging==25.0\n",
            "parso==0.8.4\n",
            "pexpect==4.9.0\n",
            "platformdirs==4.3.7\n",
            "prompt_toolkit==3.0.51\n",
            "psutil==7.0.0\n",
            "ptyprocess==0.7.0\n",
            "pure_eval==0.2.3\n",
            "Pygments==2.19.1\n",
            "python-dateutil==2.9.0.post0\n",
            "pyzmq==26.4.0\n",
            "six==1.17.0\n",
            "stack-data==0.6.3\n",
            "tornado==6.4.2\n",
            "traitlets==5.14.3\n",
            "wcwidth==0.2.13\n",
            "Note: you may need to restart the kernel to use updated packages.\n"
          ]
        }
      ],
      "source": [
        "pip freeze"
      ]
    },
    {
      "cell_type": "markdown",
      "metadata": {},
      "source": [
        "Dodaj plik \"Friendly Competition\""
      ]
    },
    {
      "cell_type": "code",
      "execution_count": null,
      "metadata": {
        "trusted": true
      },
      "outputs": [],
      "source": []
    },
    {
      "cell_type": "markdown",
      "metadata": {},
      "source": [
        "Dodaj nagłówki. Kolejno: Team Name, Activity, Players, Age, isForKids, TeamID"
      ]
    },
    {
      "cell_type": "code",
      "execution_count": null,
      "metadata": {
        "trusted": true
      },
      "outputs": [],
      "source": []
    },
    {
      "cell_type": "markdown",
      "metadata": {},
      "source": [
        "Zapoznaj się z ramką danych. Wygeneruj podsumowanie"
      ]
    },
    {
      "cell_type": "code",
      "execution_count": null,
      "metadata": {
        "trusted": true
      },
      "outputs": [],
      "source": []
    },
    {
      "cell_type": "markdown",
      "metadata": {},
      "source": [
        "Przyjrzyj się danym. Oceń, co trzeba wyczyścić. Wypisz poniżej."
      ]
    },
    {
      "cell_type": "code",
      "execution_count": null,
      "metadata": {
        "trusted": true
      },
      "outputs": [],
      "source": []
    },
    {
      "cell_type": "markdown",
      "metadata": {},
      "source": [
        "Usuń niepotrzebne wiersze i kolumny"
      ]
    },
    {
      "cell_type": "code",
      "execution_count": null,
      "metadata": {
        "trusted": true
      },
      "outputs": [],
      "source": []
    },
    {
      "cell_type": "markdown",
      "metadata": {},
      "source": [
        "Poszukaj unikatowych wartości"
      ]
    },
    {
      "cell_type": "code",
      "execution_count": null,
      "metadata": {
        "trusted": true
      },
      "outputs": [],
      "source": []
    },
    {
      "cell_type": "markdown",
      "metadata": {},
      "source": [
        "Wyczyść dane"
      ]
    },
    {
      "cell_type": "code",
      "execution_count": null,
      "metadata": {
        "trusted": true
      },
      "outputs": [],
      "source": []
    },
    {
      "cell_type": "markdown",
      "metadata": {},
      "source": [
        "Znajdź brakujące dane używając metody isna()"
      ]
    },
    {
      "cell_type": "code",
      "execution_count": null,
      "metadata": {
        "trusted": true
      },
      "outputs": [],
      "source": []
    },
    {
      "cell_type": "markdown",
      "metadata": {},
      "source": [
        "Uzupełnij brakujące dane"
      ]
    },
    {
      "cell_type": "code",
      "execution_count": null,
      "metadata": {
        "trusted": true
      },
      "outputs": [],
      "source": []
    },
    {
      "cell_type": "markdown",
      "metadata": {},
      "source": [
        "Usuń duplikaty"
      ]
    },
    {
      "cell_type": "code",
      "execution_count": null,
      "metadata": {
        "trusted": true
      },
      "outputs": [],
      "source": []
    },
    {
      "cell_type": "markdown",
      "metadata": {},
      "source": [
        "Zamień ilość graczy na format int, który jest wartością średnią"
      ]
    },
    {
      "cell_type": "code",
      "execution_count": null,
      "metadata": {
        "trusted": true
      },
      "outputs": [],
      "source": []
    },
    {
      "cell_type": "markdown",
      "metadata": {},
      "source": [
        "Wydziel wiek graczy na najmniejszą i największą wartość"
      ]
    },
    {
      "cell_type": "code",
      "execution_count": null,
      "metadata": {
        "trusted": true
      },
      "outputs": [],
      "source": []
    },
    {
      "cell_type": "markdown",
      "metadata": {},
      "source": [
        "Oddziel te drużyny, które biorą udział w aktywnościach artystycznych"
      ]
    },
    {
      "cell_type": "code",
      "execution_count": null,
      "metadata": {
        "trusted": true
      },
      "outputs": [],
      "source": []
    },
    {
      "cell_type": "markdown",
      "metadata": {},
      "source": [
        "Utwórz 2 dodaktkowe dataframy. Jeden, który zawiera listę kolejnych drużyn, drugą, która zawiera kolejne parametry"
      ]
    },
    {
      "cell_type": "code",
      "execution_count": null,
      "metadata": {
        "trusted": true
      },
      "outputs": [],
      "source": []
    },
    {
      "cell_type": "markdown",
      "metadata": {},
      "source": [
        "Dołącz dataframy do reszty"
      ]
    },
    {
      "cell_type": "code",
      "execution_count": null,
      "metadata": {
        "trusted": true
      },
      "outputs": [],
      "source": []
    }
  ],
  "metadata": {
    "kernelspec": {
      "display_name": ".venv",
      "language": "python",
      "name": "python3"
    },
    "language_info": {
      "codemirror_mode": {
        "name": "ipython",
        "version": 3
      },
      "file_extension": ".py",
      "mimetype": "text/x-python",
      "name": "python",
      "nbconvert_exporter": "python",
      "pygments_lexer": "ipython3",
      "version": "3.13.2"
    }
  },
  "nbformat": 4,
  "nbformat_minor": 4
}
