{
  "cells": [
    {
      "cell_type": "markdown",
      "metadata": {},
      "source": [
        "Zaimportuj biblioteki"
      ]
    },
    {
      "cell_type": "code",
      "execution_count": null,
      "metadata": {},
      "outputs": [
        {
          "name": "stdout",
          "output_type": "stream",
          "text": [
            "Collecting pandas\n",
            "  Using cached pandas-2.2.3-cp313-cp313-macosx_10_13_x86_64.whl.metadata (89 kB)\n",
            "Requirement already satisfied: numpy>=1.26.0 in /Users/marcinsierakowski/Documents/repos/pwgdansk/.venv/lib/python3.13/site-packages (from pandas) (2.2.5)\n",
            "Requirement already satisfied: python-dateutil>=2.8.2 in /Users/marcinsierakowski/Documents/repos/pwgdansk/.venv/lib/python3.13/site-packages (from pandas) (2.9.0.post0)\n",
            "Collecting pytz>=2020.1 (from pandas)\n",
            "  Downloading pytz-2025.2-py2.py3-none-any.whl.metadata (22 kB)\n",
            "Collecting tzdata>=2022.7 (from pandas)\n",
            "  Downloading tzdata-2025.2-py2.py3-none-any.whl.metadata (1.4 kB)\n",
            "Requirement already satisfied: six>=1.5 in /Users/marcinsierakowski/Documents/repos/pwgdansk/.venv/lib/python3.13/site-packages (from python-dateutil>=2.8.2->pandas) (1.17.0)\n",
            "Using cached pandas-2.2.3-cp313-cp313-macosx_10_13_x86_64.whl (12.5 MB)\n",
            "Downloading pytz-2025.2-py2.py3-none-any.whl (509 kB)\n",
            "Downloading tzdata-2025.2-py2.py3-none-any.whl (347 kB)\n",
            "Installing collected packages: pytz, tzdata, pandas\n",
            "Successfully installed pandas-2.2.3 pytz-2025.2 tzdata-2025.2\n",
            "Note: you may need to restart the kernel to use updated packages.\n"
          ]
        }
      ],
      "source": [
        "import pandas as pd"
      ]
    },
    {
      "cell_type": "code",
      "execution_count": null,
      "metadata": {
        "trusted": true
      },
      "outputs": [],
      "source": [
        "\n",
        "df = pd.read_csv(\"Friendly Competition.csv\", header=0)\n"
      ]
    },
    {
      "cell_type": "markdown",
      "metadata": {},
      "source": [
        "Dodaj plik \"Friendly Competition\""
      ]
    },
    {
      "cell_type": "code",
      "execution_count": 13,
      "metadata": {
        "trusted": true
      },
      "outputs": [],
      "source": [
        "df.columns=['Team Name', 'Activity', 'Players', 'Age', 'isForKids', 'TeamID']"
      ]
    },
    {
      "cell_type": "markdown",
      "metadata": {},
      "source": [
        "Dodaj nagłówki. Kolejno: Team Name, Activity, Players, Age, isForKids, TeamID"
      ]
    },
    {
      "cell_type": "code",
      "execution_count": 15,
      "metadata": {
        "trusted": true
      },
      "outputs": [
        {
          "data": {
            "text/html": [
              "<div>\n",
              "<style scoped>\n",
              "    .dataframe tbody tr th:only-of-type {\n",
              "        vertical-align: middle;\n",
              "    }\n",
              "\n",
              "    .dataframe tbody tr th {\n",
              "        vertical-align: top;\n",
              "    }\n",
              "\n",
              "    .dataframe thead th {\n",
              "        text-align: right;\n",
              "    }\n",
              "</style>\n",
              "<table border=\"1\" class=\"dataframe\">\n",
              "  <thead>\n",
              "    <tr style=\"text-align: right;\">\n",
              "      <th></th>\n",
              "      <th>Team Name</th>\n",
              "      <th>Activity</th>\n",
              "      <th>Players</th>\n",
              "      <th>Age</th>\n",
              "      <th>isForKids</th>\n",
              "      <th>TeamID</th>\n",
              "    </tr>\n",
              "  </thead>\n",
              "  <tbody>\n",
              "    <tr>\n",
              "      <th>0</th>\n",
              "      <td>_Dancing Donuts</td>\n",
              "      <td>Eating contest</td>\n",
              "      <td>3-5 people</td>\n",
              "      <td>8-12 years</td>\n",
              "      <td>Yes</td>\n",
              "      <td>54.0</td>\n",
              "    </tr>\n",
              "    <tr>\n",
              "      <th>1</th>\n",
              "      <td>.Wacky Wombats</td>\n",
              "      <td>zRacing</td>\n",
              "      <td>NaN</td>\n",
              "      <td>23-70 years</td>\n",
              "      <td>No</td>\n",
              "      <td>21.0</td>\n",
              "    </tr>\n",
              "    <tr>\n",
              "      <th>2</th>\n",
              "      <td>Silly Sausages..</td>\n",
              "      <td>Eating contest</td>\n",
              "      <td>3-5 people</td>\n",
              "      <td>8-12 years</td>\n",
              "      <td>NaN</td>\n",
              "      <td>87.0</td>\n",
              "    </tr>\n",
              "    <tr>\n",
              "      <th>3</th>\n",
              "      <td>Clumsy Ninjas-</td>\n",
              "      <td>Obstacle Course</td>\n",
              "      <td>1-2</td>\n",
              "      <td>10-99 years</td>\n",
              "      <td>Y</td>\n",
              "      <td>42.0</td>\n",
              "    </tr>\n",
              "    <tr>\n",
              "      <th>4</th>\n",
              "      <td>Laughing Llamas</td>\n",
              "      <td>Singing</td>\n",
              "      <td>4-6 people</td>\n",
              "      <td>6--600 years</td>\n",
              "      <td>YES</td>\n",
              "      <td>12.0</td>\n",
              "    </tr>\n",
              "    <tr>\n",
              "      <th>5</th>\n",
              "      <td>Silly Squids</td>\n",
              "      <td>Painting</td>\n",
              "      <td>5-9 people</td>\n",
              "      <td>8-99 years</td>\n",
              "      <td>Yes</td>\n",
              "      <td>4365.0</td>\n",
              "    </tr>\n",
              "    <tr>\n",
              "      <th>6</th>\n",
              "      <td>Bumbling Bumblebees</td>\n",
              "      <td>Dancing</td>\n",
              "      <td>3-8 people</td>\n",
              "      <td>6-53 years</td>\n",
              "      <td>yes</td>\n",
              "      <td>97.0</td>\n",
              "    </tr>\n",
              "    <tr>\n",
              "      <th>7</th>\n",
              "      <td>Dizzy Dinosaurs</td>\n",
              "      <td>Hunting</td>\n",
              "      <td>80 people</td>\n",
              "      <td>40-0 years</td>\n",
              "      <td>NaN</td>\n",
              "      <td>64.0</td>\n",
              "    </tr>\n",
              "    <tr>\n",
              "      <th>8</th>\n",
              "      <td>Quirky Quokkas</td>\n",
              "      <td>NaN</td>\n",
              "      <td>5-9 people</td>\n",
              "      <td>8-99 years</td>\n",
              "      <td>YES</td>\n",
              "      <td>32.0</td>\n",
              "    </tr>\n",
              "    <tr>\n",
              "      <th>9</th>\n",
              "      <td>Goofy Goblins/</td>\n",
              "      <td>Hunting</td>\n",
              "      <td>80 people</td>\n",
              "      <td>40-87 years</td>\n",
              "      <td>n</td>\n",
              "      <td>NaN</td>\n",
              "    </tr>\n",
              "    <tr>\n",
              "      <th>10</th>\n",
              "      <td>Jolly Jellybeans,,,</td>\n",
              "      <td>Eating contest</td>\n",
              "      <td>3-5 people</td>\n",
              "      <td>8-12 years</td>\n",
              "      <td>Y</td>\n",
              "      <td>76.0</td>\n",
              "    </tr>\n",
              "    <tr>\n",
              "      <th>11</th>\n",
              "      <td>Flaming Marshmallows</td>\n",
              "      <td>Singing</td>\n",
              "      <td>4-6 people</td>\n",
              "      <td>6-60 years</td>\n",
              "      <td>Y</td>\n",
              "      <td>43.0</td>\n",
              "    </tr>\n",
              "    <tr>\n",
              "      <th>12</th>\n",
              "      <td>Nutty Narwhals</td>\n",
              "      <td>Eating contest</td>\n",
              "      <td>NaN</td>\n",
              "      <td>8-12 years</td>\n",
              "      <td>Yes</td>\n",
              "      <td>NaN</td>\n",
              "    </tr>\n",
              "    <tr>\n",
              "      <th>13</th>\n",
              "      <td>NaN</td>\n",
              "      <td>NaN</td>\n",
              "      <td>NaN</td>\n",
              "      <td>NaN</td>\n",
              "      <td>NaN</td>\n",
              "      <td>NaN</td>\n",
              "    </tr>\n",
              "    <tr>\n",
              "      <th>14</th>\n",
              "      <td>Zany Zebras</td>\n",
              "      <td>Painting</td>\n",
              "      <td>5-9 people</td>\n",
              "      <td>NaN</td>\n",
              "      <td>NaN</td>\n",
              "      <td>12.0</td>\n",
              "    </tr>\n",
              "    <tr>\n",
              "      <th>15</th>\n",
              "      <td>Crazy Coconuts</td>\n",
              "      <td>Racing</td>\n",
              "      <td>5-7 people</td>\n",
              "      <td>23-70 years</td>\n",
              "      <td>N</td>\n",
              "      <td>87.0</td>\n",
              "    </tr>\n",
              "    <tr>\n",
              "      <th>16</th>\n",
              "      <td>, ,Wobbling Walruses</td>\n",
              "      <td>Dancing</td>\n",
              "      <td>3-8 people</td>\n",
              "      <td>6-53 years</td>\n",
              "      <td>y</td>\n",
              "      <td>8.0</td>\n",
              "    </tr>\n",
              "    <tr>\n",
              "      <th>17</th>\n",
              "      <td>Funky Flamingos</td>\n",
              "      <td>Dancing</td>\n",
              "      <td>3-8 people</td>\n",
              "      <td>6-50 years</td>\n",
              "      <td>yes</td>\n",
              "      <td>65.0</td>\n",
              "    </tr>\n",
              "    <tr>\n",
              "      <th>18</th>\n",
              "      <td>,Hilarious Hedgehogs</td>\n",
              "      <td>Hide and Seek</td>\n",
              "      <td>6-8 people</td>\n",
              "      <td>4-30 years</td>\n",
              "      <td>Y</td>\n",
              "      <td>453.0</td>\n",
              "    </tr>\n",
              "    <tr>\n",
              "      <th>19</th>\n",
              "      <td>Peculiar Penguins</td>\n",
              "      <td>NaN</td>\n",
              "      <td>3-8 people</td>\n",
              "      <td>6-60 years</td>\n",
              "      <td>NaN</td>\n",
              "      <td>NaN</td>\n",
              "    </tr>\n",
              "    <tr>\n",
              "      <th>20</th>\n",
              "      <td>Ridiculous Raccoons</td>\n",
              "      <td>Racing</td>\n",
              "      <td>NaN</td>\n",
              "      <td>23-70 years</td>\n",
              "      <td>NO</td>\n",
              "      <td>32.0</td>\n",
              "    </tr>\n",
              "    <tr>\n",
              "      <th>21</th>\n",
              "      <td>Silly Squids</td>\n",
              "      <td>Painting</td>\n",
              "      <td>5-9 people</td>\n",
              "      <td>8-99 years</td>\n",
              "      <td>Yes</td>\n",
              "      <td>4365.0</td>\n",
              "    </tr>\n",
              "  </tbody>\n",
              "</table>\n",
              "</div>"
            ],
            "text/plain": [
              "                Team Name         Activity     Players           Age  \\\n",
              "0         _Dancing Donuts   Eating contest  3-5 people    8-12 years   \n",
              "1          .Wacky Wombats          zRacing         NaN   23-70 years   \n",
              "2        Silly Sausages..   Eating contest  3-5 people    8-12 years   \n",
              "3          Clumsy Ninjas-  Obstacle Course         1-2   10-99 years   \n",
              "4         Laughing Llamas          Singing  4-6 people  6--600 years   \n",
              "5            Silly Squids         Painting  5-9 people    8-99 years   \n",
              "6     Bumbling Bumblebees          Dancing  3-8 people    6-53 years   \n",
              "7         Dizzy Dinosaurs          Hunting   80 people    40-0 years   \n",
              "8          Quirky Quokkas              NaN  5-9 people    8-99 years   \n",
              "9          Goofy Goblins/          Hunting   80 people   40-87 years   \n",
              "10    Jolly Jellybeans,,,   Eating contest  3-5 people    8-12 years   \n",
              "11   Flaming Marshmallows          Singing  4-6 people    6-60 years   \n",
              "12         Nutty Narwhals   Eating contest         NaN    8-12 years   \n",
              "13                    NaN              NaN         NaN           NaN   \n",
              "14            Zany Zebras         Painting  5-9 people           NaN   \n",
              "15         Crazy Coconuts           Racing  5-7 people   23-70 years   \n",
              "16   , ,Wobbling Walruses          Dancing  3-8 people    6-53 years   \n",
              "17        Funky Flamingos          Dancing  3-8 people    6-50 years   \n",
              "18   ,Hilarious Hedgehogs    Hide and Seek  6-8 people    4-30 years   \n",
              "19      Peculiar Penguins              NaN  3-8 people    6-60 years   \n",
              "20    Ridiculous Raccoons           Racing         NaN   23-70 years   \n",
              "21           Silly Squids         Painting  5-9 people    8-99 years   \n",
              "\n",
              "   isForKids  TeamID  \n",
              "0        Yes    54.0  \n",
              "1         No    21.0  \n",
              "2        NaN    87.0  \n",
              "3          Y    42.0  \n",
              "4        YES    12.0  \n",
              "5        Yes  4365.0  \n",
              "6        yes    97.0  \n",
              "7        NaN    64.0  \n",
              "8        YES    32.0  \n",
              "9          n     NaN  \n",
              "10         Y    76.0  \n",
              "11         Y    43.0  \n",
              "12       Yes     NaN  \n",
              "13       NaN     NaN  \n",
              "14       NaN    12.0  \n",
              "15         N    87.0  \n",
              "16         y     8.0  \n",
              "17       yes    65.0  \n",
              "18         Y   453.0  \n",
              "19       NaN     NaN  \n",
              "20        NO    32.0  \n",
              "21       Yes  4365.0  "
            ]
          },
          "metadata": {},
          "output_type": "display_data"
        }
      ],
      "source": [
        "display(df)"
      ]
    },
    {
      "cell_type": "markdown",
      "metadata": {},
      "source": [
        "Zapoznaj się z ramką danych. Wygeneruj podsumowanie"
      ]
    },
    {
      "cell_type": "code",
      "execution_count": null,
      "metadata": {
        "trusted": true
      },
      "outputs": [],
      "source": []
    },
    {
      "cell_type": "markdown",
      "metadata": {},
      "source": [
        "Przyjrzyj się danym. Oceń, co trzeba wyczyścić. Wypisz poniżej."
      ]
    },
    {
      "cell_type": "code",
      "execution_count": null,
      "metadata": {
        "trusted": true
      },
      "outputs": [],
      "source": []
    },
    {
      "cell_type": "markdown",
      "metadata": {},
      "source": [
        "Usuń niepotrzebne wiersze i kolumny"
      ]
    },
    {
      "cell_type": "code",
      "execution_count": null,
      "metadata": {
        "trusted": true
      },
      "outputs": [],
      "source": []
    },
    {
      "cell_type": "markdown",
      "metadata": {},
      "source": [
        "Poszukaj unikatowych wartości"
      ]
    },
    {
      "cell_type": "code",
      "execution_count": null,
      "metadata": {
        "trusted": true
      },
      "outputs": [],
      "source": []
    },
    {
      "cell_type": "markdown",
      "metadata": {},
      "source": [
        "Wyczyść dane"
      ]
    },
    {
      "cell_type": "code",
      "execution_count": null,
      "metadata": {
        "trusted": true
      },
      "outputs": [],
      "source": []
    },
    {
      "cell_type": "markdown",
      "metadata": {},
      "source": [
        "Znajdź brakujące dane używając metody isna()"
      ]
    },
    {
      "cell_type": "code",
      "execution_count": null,
      "metadata": {
        "trusted": true
      },
      "outputs": [],
      "source": []
    },
    {
      "cell_type": "markdown",
      "metadata": {},
      "source": [
        "Uzupełnij brakujące dane"
      ]
    },
    {
      "cell_type": "code",
      "execution_count": null,
      "metadata": {
        "trusted": true
      },
      "outputs": [],
      "source": []
    },
    {
      "cell_type": "markdown",
      "metadata": {},
      "source": [
        "Usuń duplikaty"
      ]
    },
    {
      "cell_type": "code",
      "execution_count": null,
      "metadata": {
        "trusted": true
      },
      "outputs": [],
      "source": []
    },
    {
      "cell_type": "markdown",
      "metadata": {},
      "source": [
        "Zamień ilość graczy na format int, który jest wartością średnią"
      ]
    },
    {
      "cell_type": "code",
      "execution_count": null,
      "metadata": {
        "trusted": true
      },
      "outputs": [],
      "source": []
    },
    {
      "cell_type": "markdown",
      "metadata": {},
      "source": [
        "Wydziel wiek graczy na najmniejszą i największą wartość"
      ]
    },
    {
      "cell_type": "code",
      "execution_count": null,
      "metadata": {
        "trusted": true
      },
      "outputs": [],
      "source": []
    },
    {
      "cell_type": "markdown",
      "metadata": {},
      "source": [
        "Oddziel te drużyny, które biorą udział w aktywnościach artystycznych"
      ]
    },
    {
      "cell_type": "code",
      "execution_count": null,
      "metadata": {
        "trusted": true
      },
      "outputs": [],
      "source": []
    },
    {
      "cell_type": "markdown",
      "metadata": {},
      "source": [
        "Utwórz 2 dodaktkowe dataframy. Jeden, który zawiera listę kolejnych drużyn, drugą, która zawiera kolejne parametry"
      ]
    },
    {
      "cell_type": "code",
      "execution_count": null,
      "metadata": {
        "trusted": true
      },
      "outputs": [],
      "source": []
    },
    {
      "cell_type": "markdown",
      "metadata": {},
      "source": [
        "Dołącz dataframy do reszty"
      ]
    },
    {
      "cell_type": "code",
      "execution_count": null,
      "metadata": {
        "trusted": true
      },
      "outputs": [],
      "source": []
    }
  ],
  "metadata": {
    "kernelspec": {
      "display_name": ".venv",
      "language": "python",
      "name": "python3"
    },
    "language_info": {
      "codemirror_mode": {
        "name": "ipython",
        "version": 3
      },
      "file_extension": ".py",
      "mimetype": "text/x-python",
      "name": "python",
      "nbconvert_exporter": "python",
      "pygments_lexer": "ipython3",
      "version": "3.13.2"
    }
  },
  "nbformat": 4,
  "nbformat_minor": 4
}
