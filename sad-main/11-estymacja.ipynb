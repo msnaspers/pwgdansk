{
 "cells": [
  {
   "cell_type": "markdown",
   "id": "6080af38",
   "metadata": {
    "slideshow": {
     "slide_type": "slide"
    }
   },
   "source": [
    "# Statistics and Sampling"
   ]
  },
  {
   "cell_type": "markdown",
   "id": "77b36ad1",
   "metadata": {
    "slideshow": {
     "slide_type": "slide"
    }
   },
   "source": [
    "## Importing relevant libraries"
   ]
  },
  {
   "cell_type": "code",
   "execution_count": 2,
   "id": "62f5c475",
   "metadata": {
    "slideshow": {
     "slide_type": "-"
    }
   },
   "outputs": [
    {
     "name": "stderr",
     "output_type": "stream",
     "text": [
      "/opt/anaconda3/lib/python3.9/site-packages/scipy/__init__.py:146: UserWarning: A NumPy version >=1.16.5 and <1.23.0 is required for this version of SciPy (detected version 1.23.1\n",
      "  warnings.warn(f\"A NumPy version >={np_minversion} and <{np_maxversion}\"\n"
     ]
    }
   ],
   "source": [
    "import numpy as np\n",
    "import matplotlib.pyplot as plt\n",
    "import seaborn as sns ### importing seaborn\n",
    "import pandas as pd\n",
    "import scipy.stats as ss"
   ]
  },
  {
   "cell_type": "code",
   "execution_count": 3,
   "id": "4284a34d",
   "metadata": {
    "slideshow": {
     "slide_type": "-"
    }
   },
   "outputs": [],
   "source": [
    "%matplotlib inline \n",
    "%config InlineBackend.figure_format = 'retina'"
   ]
  },
  {
   "cell_type": "markdown",
   "id": "118f7491",
   "metadata": {
    "slideshow": {
     "slide_type": "slide"
    }
   },
   "source": [
    "## Goals of this lecture\n",
    "\n",
    "This is the final lecture before we turn to **statistical modeling**.\n",
    "\n",
    "There are a few goals:\n",
    "\n",
    "- Shift from merely **descriptive statistics** (`mean`, etc.) to [**inferential statistics**](https://en.wikipedia.org/wiki/Statistical_inference).  \n",
    "  - Distinguishing **samples** vs. **populations**.\n",
    "  - Recognizing **sampling error**.\n",
    "- **Standard error** and the basics of sampling distributions."
   ]
  },
  {
   "cell_type": "markdown",
   "id": "cba493f1",
   "metadata": {
    "slideshow": {
     "slide_type": "slide"
    }
   },
   "source": [
    "### Brief caveat\n",
    "\n",
    "This is *not* an exhaustive introduction to inferential statistics! We will *not* be covering the details traditional null hypothesis significance tests, including:\n",
    "\n",
    "- t-test\n",
    "- ANOVA\n",
    "- chi-squared test\n",
    "\n",
    "Rather, I want to *motivate* a few concepts that will be relevant for a deep understanding of **statistical modeling**.\n",
    "\n",
    "- Sampling distributions and sampling error\n",
    "- Sampling error\n",
    "- Standard error"
   ]
  },
  {
   "cell_type": "markdown",
   "id": "0b4b1f1a",
   "metadata": {
    "slideshow": {
     "slide_type": "slide"
    }
   },
   "source": [
    "## Descriptive vs. inferential statistics\n",
    "\n",
    "There are at least two shelves in the statistics \"toolbox\":\n",
    "\n",
    "- **Descriptive statistics**: describing the data you have (e.g., `mean`, `median`, `std`, etc.).  \n",
    "- **Inferential statistics**: trying to generalize from the data you have to a broader **population**."
   ]
  },
  {
   "cell_type": "markdown",
   "id": "a2ad8658",
   "metadata": {
    "slideshow": {
     "slide_type": "slide"
    }
   },
   "source": [
    "### Samples vs. populations\n",
    "\n",
    "> In statistics, a **population** is a set of *potential* observations that you're interested in.\n",
    "\n",
    "It's rare to observe the entire population of interest, unless the population is very narrow.\n",
    " - E.g., \"All humans across the world\" is very broad.\n",
    " - Even \"All UCSD students\" is a large population.\n",
    "\n",
    "Thus, we typically rely on a **sample**.\n",
    "\n",
    "> A **sample** is an *actual* set of observations drawn from the population. "
   ]
  },
  {
   "cell_type": "markdown",
   "id": "29278f8b",
   "metadata": {
    "slideshow": {
     "slide_type": "slide"
    }
   },
   "source": [
    "### The challenge of generalization\n",
    "\n",
    "In order to generalize, samples must be **random** and **representative**.\n",
    "\n",
    "- Otherwise, we might **over-represent** or **under-represent** certain sub-populations.  \n",
    "\n",
    "Unfortunately, many samples are **\"convenience samples\"**––whatever's available at the time.\n",
    "\n",
    "- E.g., [\"WEIRD\" subjects](https://en.wikipedia.org/wiki/Weird) in Psychology research."
   ]
  },
  {
   "cell_type": "markdown",
   "id": "6074593b",
   "metadata": {
    "slideshow": {
     "slide_type": "slide"
    }
   },
   "source": [
    "#### Check-in\n",
    "\n",
    "What's an example from earlier in the class of how a non-representative sample can lead to **biased** models?"
   ]
  },
  {
   "cell_type": "markdown",
   "id": "b4c83ba5",
   "metadata": {
    "slideshow": {
     "slide_type": "slide"
    }
   },
   "source": [
    "#### Solutions\n",
    "\n",
    "An example we discussed was from the [Gender Shades paper (Buolamwini & Gebru, 2018)](http://proceedings.mlr.press/v81/buolamwini18a.html?mod=article_inline), which showed:\n",
    "\n",
    "> We find that these datasets are overwhelmingly composed of lighter-skinned subjects...\n",
    "\n",
    "And also that:\n",
    "\n",
    "> The substantial disparities in the accuracy of classifying darker females, lighter females, darker males, and lighter males in gender classification systems require urgent attention if commercial companies are to build genuinely fair, transparent and accountable facial analysis algorithms."
   ]
  },
  {
   "cell_type": "markdown",
   "id": "5dca2051",
   "metadata": {
    "slideshow": {
     "slide_type": "slide"
    }
   },
   "source": [
    "### Sampling error: a further challenge\n",
    "\n",
    "Even if one's sample *is* representative, it's never *identical* to the underlying population.\n",
    "\n",
    "> **Sampling error** means that *statistics* calculated on a sample (e.g., `mean`) will rarely (if ever) be identical to the underlying *population parameter*."
   ]
  },
  {
   "cell_type": "markdown",
   "id": "ce992b34",
   "metadata": {
    "slideshow": {
     "slide_type": "slide"
    }
   },
   "source": [
    "#### Illustrating sampling error\n",
    "\n",
    "The **sample mean** ($\\bar{X}$) will rarely, if ever, be identical to the **population mean** ($\\mu$)."
   ]
  },
  {
   "cell_type": "code",
   "execution_count": 12,
   "id": "ae7d60fd",
   "metadata": {
    "slideshow": {
     "slide_type": "-"
    }
   },
   "outputs": [
    {
     "data": {
      "text/plain": [
       "-0.04366990684641133"
      ]
     },
     "execution_count": 12,
     "metadata": {},
     "output_type": "execute_result"
    }
   ],
   "source": [
    "## First, create a \"population\"\n",
    "np.random.seed(10)\n",
    "pop = np.random.normal(loc = 0, scale = 3, size = 1000)\n",
    "pop.mean()"
   ]
  },
  {
   "cell_type": "code",
   "execution_count": 14,
   "id": "ddc42e62",
   "metadata": {},
   "outputs": [
    {
     "data": {
      "text/plain": [
       "0.07092582771260122"
      ]
     },
     "execution_count": 14,
     "metadata": {},
     "output_type": "execute_result"
    }
   ],
   "source": [
    "## Now, sample from that population using np.sample\n",
    "sample = np.random.choice(pop, size = 100)\n",
    "sample.mean()"
   ]
  },
  {
   "cell_type": "markdown",
   "id": "8dda2c2d",
   "metadata": {
    "slideshow": {
     "slide_type": "slide"
    }
   },
   "source": [
    "#### Check-in\n",
    "\n",
    "What if we took a *bunch* of samples from our population, all of the same size, and calculated the mean of each sample?\n",
    "\n",
    "- What might we *call* this set of sample statistics?  \n",
    "- What do you think would be true of the `mean` of this set of sample statistics?"
   ]
  },
  {
   "cell_type": "markdown",
   "id": "aff69bbe",
   "metadata": {
    "slideshow": {
     "slide_type": "slide"
    }
   },
   "source": [
    "#### Solution\n",
    "\n",
    "This is called a **sampling distribution**.\n",
    "\n",
    "This **sampling distribution** would be normally distributed around the true population mean!"
   ]
  },
  {
   "cell_type": "markdown",
   "id": "48fcfe7e",
   "metadata": {
    "slideshow": {
     "slide_type": "slide"
    }
   },
   "source": [
    "## Introducing *sampling distributions*\n",
    "\n",
    "> A **sampling distribution** is the distribution of sample statistics (e.g., `mean`) taken from *all possible* samples of size $n$."
   ]
  },
  {
   "cell_type": "markdown",
   "id": "5a6a5e6a",
   "metadata": {
    "slideshow": {
     "slide_type": "slide"
    }
   },
   "source": [
    "### Sampling distributions in action\n",
    "\n",
    "First, we simulate a ground gruth population."
   ]
  },
  {
   "cell_type": "code",
   "execution_count": 15,
   "id": "28ac37b6",
   "metadata": {
    "slideshow": {
     "slide_type": "-"
    }
   },
   "outputs": [
    {
     "data": {
      "image/png": "[encoded data removed]",
      "text/plain": [
       "<Figure size 432x288 with 1 Axes>"
      ]
     },
     "metadata": {
      "image/png": {
       "height": 248,
       "width": 388
      },
      "needs_background": "light"
     },
     "output_type": "display_data"
    }
   ],
   "source": [
    "np.random.seed(seed=10)\n",
    "pop = np.random.normal(loc = 65, scale = 3, size = 5000)\n",
    "g = sns.histplot(pop)"
   ]
  },
  {
   "cell_type": "markdown",
   "id": "58a1b864",
   "metadata": {
    "slideshow": {
     "slide_type": "slide"
    }
   },
   "source": [
    "#### Creating the sampline distribution\n",
    "\n",
    "Now, we sample from that population 300 times, with each sample size $n = 5$. \n",
    "\n",
    "What do we notice about the distribution of those sample means? (Note this is not a \"true\" sampling distribution in that it's not every possible sample.)"
   ]
  },
  {
   "cell_type": "code",
   "execution_count": 18,
   "id": "4e3773c4",
   "metadata": {
    "slideshow": {
     "slide_type": "-"
    }
   },
   "outputs": [
    {
     "data": {
      "text/plain": [
       "<matplotlib.lines.Line2D at 0x7f82008b6bb0>"
      ]
     },
     "execution_count": 18,
     "metadata": {},
     "output_type": "execute_result"
    },
    {
     "data": {
      "image/png": "[encoded data removed]",
      "text/plain": [
       "<Figure size 432x288 with 1 Axes>"
      ]
     },
     "metadata": {
      "image/png": {
       "height": 261,
       "width": 382
      },
      "needs_background": "light"
     },
     "output_type": "display_data"
    }
   ],
   "source": [
    "sample_means_n5 = []\n",
    "for _ in range(300):\n",
    "    sample = np.random.choice(pop, size = 5, replace = False)\n",
    "    sample_means_n5.append(sample.mean())\n",
    "    \n",
    "g = sns.histplot(sample_means_n5)\n",
    "plt.xlabel(\"Sample mean (n = 5)\")\n",
    "plt.axvline(pop.mean(), linestyle = \"dotted\", color = \"red\")"
   ]
  },
  {
   "cell_type": "markdown",
   "id": "1ef3b77f",
   "metadata": {
    "slideshow": {
     "slide_type": "slide"
    }
   },
   "source": [
    "### Why $n$ matters\n",
    "\n",
    "Now let's compare several distributions:  \n",
    "\n",
    "- The original population  \n",
    "- Sampling distribution with $n = 15$  \n",
    "- Sampling distribution with $n = 40$"
   ]
  },
  {
   "cell_type": "markdown",
   "id": "30fabef6",
   "metadata": {
    "slideshow": {
     "slide_type": "slide"
    }
   },
   "source": [
    "#### Creating a new sampling distribution where $n=40$"
   ]
  },
  {
   "cell_type": "code",
   "execution_count": 19,
   "id": "c94cac76",
   "metadata": {
    "slideshow": {
     "slide_type": "-"
    }
   },
   "outputs": [],
   "source": [
    "sample_means_n40 = []\n",
    "for _ in range(300):\n",
    "    sample = np.random.choice(pop, size = 40, replace = False)\n",
    "    sample_means_n40.append(sample.mean())"
   ]
  },
  {
   "cell_type": "markdown",
   "id": "8170fc4e",
   "metadata": {
    "slideshow": {
     "slide_type": "slide"
    }
   },
   "source": [
    "#### Visualizing side by side\n",
    "\n",
    "What do we notice about the sampling distribution as $n$ gets larger?"
   ]
  },
  {
   "cell_type": "code",
   "execution_count": 20,
   "id": "e82332f9",
   "metadata": {
    "slideshow": {
     "slide_type": "slide"
    }
   },
   "outputs": [
    {
     "data": {
      "image/png": "[encoded data removed]",
      "text/plain": [
       "<Figure size 648x288 with 3 Axes>"
      ]
     },
     "metadata": {
      "image/png": {
       "height": 263,
       "width": 549
      },
      "needs_background": "light"
     },
     "output_type": "display_data"
    }
   ],
   "source": [
    "## Now, we visualize them altogether\n",
    "f, (ax1, ax2, ax3) = plt.subplots(1, 3, sharex = True)\n",
    "f.set_figwidth(9)\n",
    "og = ax1.hist(pop, alpha = .5)\n",
    "ax1.title.set_text(\"Population\")\n",
    "og_s1 = ax2.hist(sample_means_n5, alpha = .5)\n",
    "ax2.title.set_text(\"Sample means (n = 5)\")\n",
    "og_s2 = ax3.hist(sample_means_n40, alpha = .5)\n",
    "ax3.title.set_text(\"Sample means (n = 40)\")"
   ]
  },
  {
   "cell_type": "markdown",
   "id": "1d1f2c5b",
   "metadata": {
    "slideshow": {
     "slide_type": "slide"
    }
   },
   "source": [
    "### Why $n$ matters (reprise)\n",
    "\n",
    "As $n$ increases: \n",
    "\n",
    "- Sampling distribution looks increasingly **normal**  \n",
    "- The variance of our sampling distribution **decreases**. \n",
    "\n",
    "This is, in essence, the [Central Limit Theorem](https://en.wikipedia.org/wiki/Central_limit_theorem).\n",
    "\n",
    "This is even true of **skewed distributions**!"
   ]
  },
  {
   "cell_type": "markdown",
   "id": "c4d0add0",
   "metadata": {
    "slideshow": {
     "slide_type": "slide"
    }
   },
   "source": [
    "### Quantifying sampling distribution variance\n",
    "\n",
    "A larger $n$ should increase our confidence that our **sample statistic** is a good approximation of our **population parameter**.\n",
    "\n",
    "- Larger $n$ means lower *variance* of our sampling distribution.  \n",
    "- In turn, this means that *any given* sample statistic is relatively close to the population parameter.\n",
    "\n",
    "How might we *quantify* the amount of variance in our hypothetical sampling distribution?"
   ]
  },
  {
   "cell_type": "markdown",
   "id": "3d0b383f",
   "metadata": {
    "slideshow": {
     "slide_type": "slide"
    }
   },
   "source": [
    "## Introducing *standard error*\n",
    "\n",
    "> **Standard error** gives us a measure of the variance of our *sampling distribution*.\n",
    "\n",
    "**Standard error (SE)** is defined as:\n",
    "\n",
    "$\\Large SE = \\frac{s}{\\sqrt{n}}$\n",
    "\n",
    "Where $s$ is the standard deviation of the sample."
   ]
  },
  {
   "cell_type": "markdown",
   "id": "0f4190b5",
   "metadata": {
    "slideshow": {
     "slide_type": "slide"
    }
   },
   "source": [
    "### Check-in\n",
    "\n",
    "How is **standard error** different from **standard deviation**?"
   ]
  },
  {
   "cell_type": "markdown",
   "id": "19d4f05c",
   "metadata": {
    "slideshow": {
     "slide_type": "slide"
    }
   },
   "source": [
    "### Standard error depends on $n$\n",
    "\n",
    "- Standard deviation is invariant to the *size* of our sample. \n",
    "- Standard error gets smaller as our sample size ($n$) increases.\n",
    "   - SE *reflects* both standard deviation and $n$."
   ]
  },
  {
   "cell_type": "code",
   "execution_count": 22,
   "id": "ed30358c",
   "metadata": {
    "slideshow": {
     "slide_type": "slide"
    }
   },
   "outputs": [
    {
     "data": {
      "text/plain": [
       "Text(0, 0.5, 'Standard Error')"
      ]
     },
     "execution_count": 22,
     "metadata": {},
     "output_type": "execute_result"
    },
    {
     "data": {
      "image/png": "[encoded data removed]",
      "text/plain": [
       "<Figure size 432x288 with 1 Axes>"
      ]
     },
     "metadata": {
      "image/png": {
       "height": 261,
       "width": 382
      },
      "needs_background": "light"
     },
     "output_type": "display_data"
    }
   ],
   "source": [
    "Ns = np.linspace(1, 100, num = 100)\n",
    "for sigma in [10, 20, 30, 40]:\n",
    "    se = sigma / np.sqrt(Ns)\n",
    "    plt.plot(Ns, se, label = \"$\\sigma$ = {x}\".format(x=sigma))\n",
    "plt.legend()\n",
    "plt.xlabel(\"N\")\n",
    "plt.ylabel(\"Standard Error\")"
   ]
  },
  {
   "cell_type": "markdown",
   "id": "69611443",
   "metadata": {
    "slideshow": {
     "slide_type": "slide"
    }
   },
   "source": [
    "### Caclulating SE with `pandas`\n",
    "\n",
    "`pandas` gives us a function (`sem`) to calculate standard error of the mean (SE) directly on a column."
   ]
  },
  {
   "cell_type": "code",
   "execution_count": 27,
   "id": "919b3b19",
   "metadata": {
    "slideshow": {
     "slide_type": "-"
    }
   },
   "outputs": [
    {
     "data": {
      "text/plain": [
       "0.08363032857029364"
      ]
     },
     "execution_count": 27,
     "metadata": {},
     "output_type": "execute_result"
    }
   ],
   "source": [
    "df_height = pd.read_csv(\"data/wrangling/height.csv\")\n",
    "df_height['Father'].sem()"
   ]
  },
  {
   "cell_type": "markdown",
   "id": "799e1f90",
   "metadata": {
    "slideshow": {
     "slide_type": "slide"
    }
   },
   "source": [
    "### Reporting standard error\n",
    "\n",
    "A common way to use standard error is to **report** it alongside the sample mean:\n",
    "\n",
    "> The mean of our sample was $25$, $\\pm 3.5$ (SE).  \n",
    "\n",
    "That \"$\\pm$\" symbol just indicates some **uncertainty** about our sample statistic.  "
   ]
  },
  {
   "cell_type": "markdown",
   "id": "04b4dcb9",
   "metadata": {
    "slideshow": {
     "slide_type": "slide"
    }
   },
   "source": [
    "## Conclusion\n",
    "\n",
    "This concludes our brief foray into **inferential statistics**.\n",
    "\n",
    "The goal was primarily to introduce a few key concepts:\n",
    "\n",
    "- Sampling error: sample statitics ≠ population parameter.  \n",
    "- Sampling distributions: a distribution of all sample statistics from samples of size $n$.  \n",
    "- Standard error: a quantification of the variance in our sampling distribution.\n",
    "\n",
    "Together, these concepts will help *ground* future discussions of statistical modeling."
   ]
  }
 ],
 "metadata": {
  "celltoolbar": "Slideshow",
  "kernelspec": {
   "display_name": "Python 3 (ipykernel)",
   "language": "python",
   "name": "python3"
  },
  "language_info": {
   "codemirror_mode": {
    "name": "ipython",
    "version": 3
   },
   "file_extension": ".py",
   "mimetype": "text/x-python",
   "name": "python",
   "nbconvert_exporter": "python",
   "pygments_lexer": "ipython3",
   "version": "3.9.12"
  }
 },
 "nbformat": 4,
 "nbformat_minor": 5
}
