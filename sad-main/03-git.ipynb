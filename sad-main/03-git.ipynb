{
 "cells": [
  {
   "cell_type": "markdown",
   "id": "df1d774f",
   "metadata": {
    "slideshow": {
     "slide_type": "slide"
    }
   },
   "source": [
    "# 03 - Git i kontrola wersji"
   ]
  },
  {
   "cell_type": "markdown",
   "id": "85036752",
   "metadata": {
    "slideshow": {
     "slide_type": "slide"
    }
   },
   "source": [
    "## Cele tego rozdziału\n",
    "\n",
    "Ten rozdział będzie objaśniał narzędzie Git przydatne do **pracy z kontrolą wersji** w Pythonie, a dokładnie w Visual Studio (mozesz uzywać takze innych języków programowania...).\n",
    "\n",
    "- Główny nacisk: **Git**, jego składnię (syntax)\n",
    "- Wykorzystanie wtyczki GitLens w VS Code\n",
    "- Jak pracować zespołowo nad projektem analitycznym uzywając GitLens w VS Code"
   ]
  },
  {
   "cell_type": "markdown",
   "id": "3efec136",
   "metadata": {},
   "source": [
    "## Git\n",
    "\n",
    "Ok, znasz już podstawy programowania w Pythonie, w środowisku VS Code. Tworzysz wspólne projekty z przyjaciółmi, ale ciągle mylisz wersje. Chciałbyś pracować nad nimi razem, widzieć i notować swoje postępy w czasie rzeczywistym. Odpowiedzią jest Git. Git to rozproszony system kontroli wersji i nieocenione wsparcie dla każdego programisty! To właśnie on pozwala tworzyć historię kompilacji projektu, zarządzać wersjami, kontrolować postępy i edytować tworzony kod, a następnie publikować go w serwisie GitHub.\n",
    "\n",
    "Visual Studio Code ma wbudowaną obsługę Git. Git to rozproszone podejście do kontroli wersji. Git został stworzony przez Linusa Torvaldsa w 2005 roku w celu zarządzania rozwojem jądra systemu Linux. Mówiąc prościej, Git śledzi zmiany wprowadzone w plikach, umożliwiając w razie potrzeby powrót do poprzednich wersji plików."
   ]
  },
  {
   "cell_type": "markdown",
   "id": "ea27e3d0",
   "metadata": {},
   "source": [
    "### Czego potrzebujesz?\n",
    "\n",
    "#### Git\n",
    "\n",
    "Przed rozpoczęciem korzystania z integracji Git w VS Code należy najpierw upewnić się, że Git został pobrany i skonfigurowany. Aby sprawdzić, czy masz zainstalowany Git, otwórz zintegrowany terminal w VS Code za pomocą skrótu klawiaturowego CTRL +, a następnie wpisz git --version. Jeśli terminal zwróci git version, a następnie dowolny numer wersji, oznacza to, że faktycznie masz zainstalowany Git. Jeśli nic nie zostanie zwrócone, będziesz musiał(a) przejść do strony https://git-scm.com/downloads dla swojego systemu operacyjnego. \n",
    "\n",
    "Następnie należy sprawdzić, czy Git jest poprawnie skonfigurowany, ustawiając swoją nazwę i adres e-mail. Aby sprawdzić, czy Git został już skonfigurowany, przejdź do terminala i uruchom polecenie: \n",
    "\n",
    "git config --global --list. \n",
    "\n",
    "\n",
    "Jeśli Git został skonfigurowany, terminal zwróci ustawioną nazwę użytkownika i adres e-mail. Jeśli tak nie jest, musisz skonfigurować Git, wykonując następujące czynności:\n",
    "\n",
    "1. Aby ustawić swoją nazwę uruchom:  git config  --global user.name <your name> \n",
    "2. Aby ustawić swój e-mail uruchom:  git config  --global user.email <your email>\n",
    "\n",
    "Informacje te są wymagane do korzystania z Git i muszą zostać wprowadzone przed zatwierdzeniem jakichkolwiek zmian. Aby uzyskać dodatkowe informacje na temat konfiguracji Git i początkowych wymagań, zapoznaj się z [oficjalną dokumentacją Git](https://git-scm.com/book/en/v2/Getting-Started-First-Time-Git-Setup).\n",
    "\n",
    "#### GitLens\n",
    "\n",
    "Zainstaluj wtyczkę GitLens wewnątrz VS Code! \n",
    "\n",
    "Z ponad 20 milionami instalacji, GitLens jest najpopularniejszym rozszerzeniem Git dla Visual Studio Code. Zapewnia cenny wgląd w autorstwo kodu i odblokowuje pełną moc Git w VS Code. GitLens zwiększa możliwości Git wbudowane w VS Code. Niezależnie od tego, czy jesteś doświadczonym programistą Git, czy dopiero zaczynasz, GitLens sprawia, że wykorzystanie pełnej mocy Git jest łatwiejsze, bezpieczniejsze i szybsze. \n",
    "\n",
    "Ten samouczek GitLens pokaże Ci, jak używać GitLens w VS Code i jak najlepiej wykorzystać to narzędzie. Zarejestruj się w GitLens+, aby w pełni wykorzystać swoje doświadczenie - to nic nie kosztuje.\n",
    "\n",
    "<p style=\"text-align: center;\"><iframe width=\"560\" height=\"315\" src=\"https://www.youtube.com/embed/i_23KUAEtUM?si=PoNhq3UWhdWNDCy3\" title=\"YouTube video player\" frameborder=\"0\" allow=\"accelerometer; autoplay; clipboard-write; encrypted-media; gyroscope; picture-in-picture; web-share\" referrerpolicy=\"strict-origin-when-cross-origin\" allowfullscreen=\"\"></iframe></p>\n",
    "\n",
    "#### Praca z kontrolą wersji\n",
    "\n",
    "1. Zaloguj się do GitHub'a z wtyczki GitLens, przedstaw się - podając swój login i e-mail w terminalu. \n",
    "2. Załóż testowe repozytorium na GitHubie (nie zapomnij wybrać haczyka \"Utwórz plik Readme\"), połącz się z nim wprost z wtyczki GitLens w VS Code. Spróbuj wykonać próbne zmiany w pliku Readme. \n",
    "3. Jak pracować w zespole? Musisz nadać uprawnienia swojemu współpracownikowi wchodząc w zakładkę \"Collaborators\" na stronie GitHuba, w ustawieniach ogólnych repozytorium. \n",
    "\n",
    "<p><iframe width=\"560\" height=\"315\" src=\"https://www.youtube.com/embed/UQPb73Zz9qk?si=C4rHKiBhZ_ptwCBJ\" title=\"YouTube video player\" frameborder=\"0\" allow=\"accelerometer; autoplay; clipboard-write; encrypted-media; gyroscope; picture-in-picture; web-share\" referrerpolicy=\"strict-origin-when-cross-origin\" allowfullscreen=\"\"></iframe></p>\n",
    "<p></p>"
   ]
  }
 ],
 "metadata": {
  "celltoolbar": "Slideshow",
  "kernelspec": {
   "display_name": "Python 3 (ipykernel)",
   "language": "python",
   "name": "python3"
  },
  "language_info": {
   "codemirror_mode": {
    "name": "ipython",
    "version": 3
   },
   "file_extension": ".py",
   "mimetype": "text/x-python",
   "name": "python",
   "nbconvert_exporter": "python",
   "pygments_lexer": "ipython3",
   "version": "3.9.12"
  }
 },
 "nbformat": 4,
 "nbformat_minor": 5
}
